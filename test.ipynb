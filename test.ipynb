{
 "cells": [
  {
   "cell_type": "code",
   "execution_count": 2,
   "id": "3e79be83",
   "metadata": {},
   "outputs": [
    {
     "name": "stdout",
     "output_type": "stream",
     "text": [
      "     Session ID  Instructor ID\n",
      "0    training_1   instructor_1\n",
      "1    training_2   instructor_9\n",
      "2    training_2   instructor_2\n",
      "3    training_2   instructor_3\n",
      "4    training_3  instructor_10\n",
      "5    training_4   instructor_5\n",
      "6    training_4   instructor_8\n",
      "7    training_4  instructor_10\n",
      "8    training_5   instructor_7\n",
      "9    training_6   instructor_2\n",
      "10   training_6  instructor_10\n",
      "11   training_6   instructor_9\n",
      "12   training_7   instructor_1\n",
      "13   training_7   instructor_6\n",
      "14   training_7   instructor_3\n",
      "15   training_8   instructor_1\n",
      "16   training_8   instructor_5\n",
      "17   training_8   instructor_8\n",
      "18   training_9   instructor_9\n",
      "19   training_9   instructor_7\n",
      "20   training_9   instructor_5\n",
      "21  training_10  instructor_10\n",
      "22  training_10   instructor_4\n",
      "23  training_11   instructor_3\n",
      "24  training_11   instructor_7\n",
      "25  training_12   instructor_2\n",
      "26  training_13   instructor_3\n",
      "27  training_13   instructor_1\n",
      "28  training_14   instructor_2\n",
      "29  training_14   instructor_7\n",
      "30  training_15  instructor_10\n",
      "31  training_15   instructor_3\n",
      "32  training_15   instructor_1\n",
      "33  training_16   instructor_1\n",
      "34  training_17   instructor_9\n",
      "35  training_17   instructor_7\n",
      "36  training_17   instructor_5\n",
      "37  training_18   instructor_7\n",
      "38  training_18   instructor_2\n",
      "39  training_19   instructor_1\n",
      "40  training_19   instructor_9\n",
      "41  training_20   instructor_8\n",
      "42  training_20   instructor_4\n"
     ]
    }
   ],
   "source": [
    "import pandas as pd\n",
    "import random\n",
    "\n",
    "# Load your session and instructor data\n",
    "sessions_df = pd.read_excel(\"data/Onboarding_Data.xlsx\", sheet_name=\"Sessions\")\n",
    "instructors_df = pd.read_excel(\"data/Onboarding_Data.xlsx\", sheet_name=\"Instructors\")\n",
    "\n",
    "instructor_ids = instructors_df[\"Instructor ID\"].tolist()\n",
    "\n",
    "# Generate 1–3 random instructors per session\n",
    "def assign_instructors():\n",
    "    return random.sample(instructor_ids, k=random.randint(1, 3))\n",
    "\n",
    "# Create mapping\n",
    "session_instructor_map = {\n",
    "    session_id: assign_instructors() for session_id in sessions_df[\"Session ID\"]\n",
    "}\n",
    "\n",
    "# Convert to DataFrame\n",
    "instructor_assignments = pd.DataFrame([\n",
    "    {\"Session ID\": session_id, \"Instructor ID\": instructor_id}\n",
    "    for session_id, instructors in session_instructor_map.items()\n",
    "    for instructor_id in instructors\n",
    "])\n",
    "\n",
    "# Save or inspect\n",
    "print(instructor_assignments)\n",
    "instructor_assignments.to_csv(\"Instructor_Session_Assignments.csv\", index=False)\n"
   ]
  }
 ],
 "metadata": {
  "kernelspec": {
   "display_name": ".venv (3.10.11)",
   "language": "python",
   "name": "python3"
  },
  "language_info": {
   "codemirror_mode": {
    "name": "ipython",
    "version": 3
   },
   "file_extension": ".py",
   "mimetype": "text/x-python",
   "name": "python",
   "nbconvert_exporter": "python",
   "pygments_lexer": "ipython3",
   "version": "3.10.11"
  }
 },
 "nbformat": 4,
 "nbformat_minor": 5
}
